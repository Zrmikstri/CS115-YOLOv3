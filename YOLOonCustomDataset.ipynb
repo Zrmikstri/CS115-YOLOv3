{
  "cells": [
    {
      "cell_type": "markdown",
      "metadata": {
        "id": "view-in-github",
        "colab_type": "text"
      },
      "source": [
        "<a href=\"https://colab.research.google.com/github/Zrmikstri/CS115-YOLOv3/blob/main/YOLOonCustomDataset.ipynb\" target=\"_parent\"><img src=\"https://colab.research.google.com/assets/colab-badge.svg\" alt=\"Open In Colab\"/></a>"
      ]
    },
    {
      "cell_type": "markdown",
      "source": [
        "# HUẤN LUYỆN MÔ HÌNH YOLOV3 TRÊN MỘT BỘ DATASET TÙY CHỈNH"
      ],
      "metadata": {
        "id": "TuZcDI_oLU2J"
      }
    },
    {
      "cell_type": "markdown",
      "source": [
        "# Step 1: Sao chép và xây dựng darknet"
      ],
      "metadata": {
        "id": "QUCIjPk2LlIt"
      }
    },
    {
      "cell_type": "code",
      "source": [
        "# Clone darknet repository\n",
        "!git clone https://github.com/AlexeyAB/darknet"
      ],
      "metadata": {
        "id": "tt4mumXryCat"
      },
      "execution_count": null,
      "outputs": []
    },
    {
      "cell_type": "code",
      "source": [
        "# Change makefile to have GPU and OPENCV enabled\n",
        "%cd darknet\n",
        "!sed -i 's/OPENCV=0/OPENCV=1/' Makefile\n",
        "!sed -i 's/GPU=0/GPU=1/' Makefile\n",
        "!sed -i 's/CUDNN=0/CUDNN=1/' Makefile"
      ],
      "metadata": {
        "id": "ypwYLgK3yDoO"
      },
      "execution_count": null,
      "outputs": []
    },
    {
      "cell_type": "code",
      "source": [
        "# Verify CUDA\n",
        "!/usr/local/cuda/bin/nvcc --version"
      ],
      "metadata": {
        "id": "uofGR5CnyF1j"
      },
      "execution_count": null,
      "outputs": []
    },
    {
      "cell_type": "code",
      "source": [
        "# Make darknet (build)\n",
        "!make"
      ],
      "metadata": {
        "id": "HH1fqpuJyGxd"
      },
      "execution_count": null,
      "outputs": []
    },
    {
      "cell_type": "markdown",
      "source": [
        "# Step 1: Thu thập và gán nhãn dữ liệu\n",
        "* Sử dụng Google's Open Images Dataset\n",
        "\n",
        "Link: https://storage.googleapis.com/openimages/web/index.html\n",
        "\n",
        "* Điều chỉnh lại nhãn dữ liệu lấy từ Google's Open Images Dataset sao cho phù hợp với YOLOv3, tham khảo link github: \n",
        "https://github.com/theAIGuysCode/OIDv4_ToolKit\n",
        "\n",
        "# Step 2: Tùy chỉnh setting  file để huấn luyện\n",
        "\n",
        "1.   Tạo file yolov3_custom.cfg với nội dung giống như file yolov3.cfg, sau đó:\n",
        "    *   Thay đổi dòng batch thành batch=64\n",
        "    *  Thay đổi dòng subdivisions thành subdivisions=64\n",
        "\n",
        "    ![](https://i.imgur.com/tNmOckD.png)\n",
        "    *   thay đổi dòng max_batches thành max_batches = number of classes * 2000\n",
        "    *   Thay đổi dòng steps thành  steps=80% của  max_batches, 90% của max_batches\n",
        "    \n",
        "    ![](https://i.imgur.com/xprdFTB.png)\n",
        "\n",
        "    *   Chỉnh classes=5 (đây là số class trong custom dataset)\n",
        "    *   Thay [filters=255] thành filters = (classes + 5)* 3 tại dòng 603, dòng 689 và dòng 776\n",
        "\n",
        "    ![](https://i.imgur.com/BnwJqZI.png)\n",
        "2.   Tạo file obj.names, obj.data trong đường dẫn darknet\\data\n",
        "\n",
        "    ![](https://i.imgur.com/uNPoehG.png)\n",
        "\n",
        "    ![](https://i.imgur.com/7h1C1xU.png)\n",
        "\n",
        "\n",
        "\n",
        "\n"
      ],
      "metadata": {
        "id": "jntA-QfC0waf"
      }
    },
    {
      "cell_type": "markdown",
      "source": [
        "4. Tạo một  file train.txt trong đường dẫn darknet\\data chứa tất cả đường dẫn đến ảnh, mỗi đường dẫn một dòng\n",
        "    ![](https://i.imgur.com/mMMQSlU.png)\n",
        "\n",
        "\n",
        "5. Tất cả ảnh dùng để huấn luyện sẽ được đặt trên đường dẫn darknet\\data\\obj"
      ],
      "metadata": {
        "id": "f4KU0AcgOX6p"
      }
    },
    {
      "cell_type": "code",
      "source": [
        "# Create train.txt\n",
        "import os\n",
        "image_files = []\n",
        "os.chdir(os.path.join(\"data\", \"obj\"))\n",
        "for filename in os.listdir(os.getcwd()):\n",
        "    if filename.endswith(\".jpg\"):\n",
        "        image_files.append(\"data/obj/\" + filename)\n",
        "os.chdir(\"..\")\n",
        "with open(\"train.txt\", \"w\") as outfile:\n",
        "    for image in image_files:\n",
        "        outfile.write(image)\n",
        "        outfile.write(\"\\n\")\n",
        "    outfile.close()\n",
        "os.chdir(\"..\")"
      ],
      "metadata": {
        "id": "8NkCIOOhOZAq"
      },
      "execution_count": null,
      "outputs": []
    },
    {
      "cell_type": "markdown",
      "source": [
        "# Step 3: Tải về pretrained weights cho lớp convolutional và đặt trong đường dẫn darknet\\"
      ],
      "metadata": {
        "id": "U8zc0YQT7vH0"
      }
    },
    {
      "cell_type": "code",
      "source": [
        "# Getting pretrained convolutional layer weights\n",
        "!wget http://pjreddie.com/media/files/darknet53.conv.74"
      ],
      "metadata": {
        "id": "ugBYhY5A0i7Q"
      },
      "execution_count": null,
      "outputs": []
    },
    {
      "cell_type": "markdown",
      "source": [
        "# Step 4: Thực hiện huấn luyện"
      ],
      "metadata": {
        "id": "yUKXOlu2J7g7"
      }
    },
    {
      "cell_type": "markdown",
      "source": [
        "\n",
        "\n",
        "# Bắt đầu huấn luyện lần đầu tiên\n",
        "```\n",
        "!./darknet detector train <path to obj.data> <path to custom config> darknet53.conv.74 -dont_show\n",
        "```\n",
        "\n"
      ],
      "metadata": {
        "id": "Vhu_h6le75xW"
      }
    },
    {
      "cell_type": "code",
      "source": [
        "# train your custom detector\n",
        "!./darknet detector train data/obj.data cfg/yolov3_custom.cfg darknet53.conv.74 -dont_show"
      ],
      "metadata": {
        "id": "MrqZLbT-75DQ"
      },
      "execution_count": null,
      "outputs": []
    },
    {
      "cell_type": "markdown",
      "source": [
        "\n",
        "## Tiếp tục huấn luyện nếu có dừng giữa chừng trong quá trình huấn luyện\n",
        "```\n",
        "!./darknet detector train <path to obj.data> <path to custom config> <path to last weights> \n",
        "```\n",
        "\n"
      ],
      "metadata": {
        "id": "93Ns3BNUJQw3"
      }
    },
    {
      "cell_type": "code",
      "source": [
        "# Continue trainning\n",
        "## Go to directory darknet\n",
        "import os\n",
        "os.chdir('/content/drive/MyDrive/ĐỒ ÁN MÔN HỌC CS115/YOLO on custom dataset/darknet')\n",
        "!chmod +x ./darknet\n",
        "\n",
        "!./darknet detector train data/obj.data cfg/yolov3_custom.cfg backup/yolov3_custom_last.weights -map -dont_show"
      ],
      "metadata": {
        "id": "0is_rqnG8EkM"
      },
      "execution_count": null,
      "outputs": []
    },
    {
      "cell_type": "markdown",
      "source": [
        "# Step 5: Thực hiện kiểm tra mô hình trên dữ liệu mới\n",
        "Sau khi hoàn thành quá trình huấn luyện, chuyển setting của fie yolov3_custom.cfg để kiểm tra mô hình"
      ],
      "metadata": {
        "id": "fvo_TQpTL-TF"
      }
    },
    {
      "cell_type": "code",
      "source": [
        "# Setting file yolov3_custom.cfg to test mode \n",
        "%cd cfg\n",
        "!sed -i 's/batch=64/batch=1/' yolov3_custom.cfg\n",
        "!sed -i 's/subdivisions=16/subdivisions=1/' yolov3_custom.cfg\n",
        "%cd .."
      ],
      "metadata": {
        "id": "Rk1Z15UbEWUu"
      },
      "execution_count": null,
      "outputs": []
    },
    {
      "cell_type": "code",
      "source": [
        "# Testing\n",
        "import os\n",
        "os.chdir('/content/drive/MyDrive/ĐỒ ÁN MÔN HỌC CS115/YOLO on custom dataset/darknet')\n",
        "!./darknet detector test data/obj.data cfg/yolov3_custom.cfg /content/drive/MyDrive/YOLO/darknet/backup/yolov3_custom_final.weights /content/drive/MyDrive/YOLO/Data/strawberry.jpg"
      ],
      "metadata": {
        "id": "aeVSj_7kEfE7"
      },
      "execution_count": null,
      "outputs": []
    },
    {
      "cell_type": "code",
      "source": [
        "# define functions\n",
        "def imShow(path):\n",
        "  import cv2\n",
        "  import matplotlib.pyplot as plt\n",
        "  %matplotlib inline\n",
        "\n",
        "  image = cv2.imread(path)\n",
        "  height, width = image.shape[:2]\n",
        "  resized_image = cv2.resize(image, (3 * width, 3 * height), interpolation = cv2.INTER_CUBIC)\n",
        "\n",
        "  fig = plt.gcf()\n",
        "  fig.set_size_inches(18, 10)\n",
        "  plt.axis(\"off\")\n",
        "  plt.imshow(cv2.cvtColor(resized_image, cv2.COLOR_BGR2RGB))\n",
        "  plt.show()"
      ],
      "metadata": {
        "id": "XgI0LyV4E9Ii"
      },
      "execution_count": null,
      "outputs": []
    },
    {
      "cell_type": "code",
      "source": [
        "imShow('/content/drive/MyDrive/YOLO/darknet/predictions.jpg')"
      ],
      "metadata": {
        "id": "xY0fFhFwGSPE"
      },
      "execution_count": null,
      "outputs": []
    },
    {
      "cell_type": "code",
      "source": [
        ""
      ],
      "metadata": {
        "id": "7lQzi1mAIzS8"
      },
      "execution_count": null,
      "outputs": []
    }
  ],
  "metadata": {
    "accelerator": "GPU",
    "colab": {
      "collapsed_sections": [],
      "name": "YOLOonCustomDataset",
      "provenance": [],
      "private_outputs": true,
      "include_colab_link": true
    },
    "kernelspec": {
      "display_name": "Python 3",
      "name": "python3"
    },
    "language_info": {
      "name": "python"
    }
  },
  "nbformat": 4,
  "nbformat_minor": 0
}
